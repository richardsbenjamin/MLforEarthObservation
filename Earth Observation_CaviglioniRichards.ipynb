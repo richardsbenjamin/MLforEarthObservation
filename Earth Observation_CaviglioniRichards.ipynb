{
  "cells": [
    {
      "cell_type": "code",
      "execution_count": 1,
      "id": "aa550e48-65d6-486b-ac93-07612c29def7",
      "metadata": {
        "id": "aa550e48-65d6-486b-ac93-07612c29def7"
      },
      "outputs": [],
      "source": [
        "import numpy as np\n",
        "import torch\n",
        "import torch.nn as nn\n",
        "from torch.utils.data import DataLoader\n",
        "from torch import optim\n",
        "\n",
        "from utils.classing import get_target_by_classing\n",
        "from utils.data import (\n",
        "    FilePaths,\n",
        "    correlation_coefficient,\n",
        "    display_image,\n",
        "    mean_bias_error,\n",
        "    read_image_file,\n",
        "    rmse,\n",
        ")\n",
        "from utils.deep import (\n",
        "    RegressionDataset,\n",
        "    Regressor,\n",
        "    ToTensor,\n",
        "    stack_inputs,\n",
        "    train\n",
        ")\n",
        "from utils.models import (\n",
        "    albedo_polynomial_fit,\n",
        "    albedo_polynomial_sharpening,\n",
        "    linear_fit,\n",
        "    linear_sharpening,\n",
        "    multi_linear_fit,\n",
        "    multi_linear_sharpening,\n",
        "    replace_thresholded_pixels,\n",
        ")\n",
        "from utils.patching import get_fine_reconstruction_from_patches\n",
        "from utils.residualcorrection import (\n",
        "    upscale_coarse,\n",
        "    upscale_coarse_krig,\n",
        "    resid_calc_classic,\n",
        "    resid_calc_mean\n",
        ")"
      ]
    },
    {
      "cell_type": "code",
      "execution_count": 2,
      "id": "cc94d782",
      "metadata": {},
      "outputs": [],
      "source": [
        "n_c = 30\n",
        "n_h = 150"
      ]
    },
    {
      "cell_type": "code",
      "execution_count": 3,
      "id": "48fc1a3c",
      "metadata": {},
      "outputs": [],
      "source": [
        "I_C = read_image_file(FilePaths.INDEX_C)\n",
        "I_H = read_image_file(FilePaths.INDEX_H)\n",
        "T_C = read_image_file(FilePaths.TEMP_C)\n",
        "T_H = read_image_file(FilePaths.TEMP_H)\n",
        "A_C = read_image_file(FilePaths.ALBEDO_C)\n",
        "A_H = read_image_file(FilePaths.ALBEDO_H)\n",
        "C_C = read_image_file(FilePaths.CLASS_C)\n",
        "C_H = read_image_file(FilePaths.CLASS_H)"
      ]
    },
    {
      "cell_type": "code",
      "execution_count": 4,
      "id": "5c8ae965",
      "metadata": {},
      "outputs": [
        {
          "data": {
            "image/png": "[encoded data removed]",
            "text/plain": [
              "<Figure size 1800x900 with 2 Axes>"
            ]
          },
          "metadata": {},
          "output_type": "display_data"
        }
      ],
      "source": [
        "display_image(C_C)"
      ]
    },
    {
      "cell_type": "code",
      "execution_count": 5,
      "id": "bbf3565c",
      "metadata": {},
      "outputs": [],
      "source": [
        "ALBEDO_LOW = T_C.min() - 5\n",
        "ALBEDO_HIGH = T_C.max() + 5"
      ]
    },
    {
      "cell_type": "markdown",
      "id": "ca0908e9",
      "metadata": {},
      "source": [
        "## Linear Fit"
      ]
    },
    {
      "cell_type": "code",
      "execution_count": 6,
      "id": "ec71a911",
      "metadata": {},
      "outputs": [
        {
          "name": "stdout",
          "output_type": "stream",
          "text": [
            "Linear Model RMSEs\n",
            "Residual Correction - Linear :  9.177208550747284\n",
            "Residual Correction - Krig   :  9.741766828649471\n"
          ]
        }
      ],
      "source": [
        "linear_fit_res = linear_fit(I_C, T_C)\n",
        "\n",
        "linear_pred = linear_sharpening([I_C], linear_fit_res)\n",
        "linear_sharp = linear_sharpening([I_H], linear_fit_res)\n",
        "\n",
        "linear_resids = resid_calc_classic(T_C, linear_pred)\n",
        "\n",
        "upscaled_linear_linear_resids = upscale_coarse(linear_resids)\n",
        "upscaled_linear_krig_resids = upscale_coarse_krig(linear_resids)\n",
        "\n",
        "linear_sharp_rc_linaer = linear_sharp + upscaled_linear_linear_resids\n",
        "linear_sharp_rc_krig   = linear_sharp + upscaled_linear_krig_resids\n",
        "\n",
        "linear_rc_linear_rmse = rmse(linear_sharp_rc_linaer, T_H)\n",
        "linear_rc_krig = rmse(linear_sharp_rc_krig, T_H)\n",
        "\n",
        "print(\"Linear Model RMSEs\")\n",
        "print(\"Residual Correction - Linear : \", linear_rc_linear_rmse)\n",
        "print(\"Residual Correction - Krig   : \", linear_rc_krig)"
      ]
    },
    {
      "cell_type": "markdown",
      "id": "bf56bc7e",
      "metadata": {},
      "source": [
        "## Multi-Linear Fit"
      ]
    },
    {
      "cell_type": "code",
      "execution_count": 7,
      "id": "2e32a671",
      "metadata": {},
      "outputs": [
        {
          "name": "stdout",
          "output_type": "stream",
          "text": [
            "Multi Linear Model RMSEs\n",
            "Residual Correction - Linear :  9.60510883824584\n",
            "Residual Correction - Krig   :  21.761528665589697\n"
          ]
        }
      ],
      "source": [
        "multi_model = multi_linear_fit([I_C, A_C], T_C)\n",
        "\n",
        "multi_pred = multi_linear_sharpening([I_C.flatten(), A_C.flatten()], multi_model, n_c)\n",
        "multi_sharp = multi_linear_sharpening([I_H.flatten(), A_H.flatten()], multi_model, n_h)\n",
        "\n",
        "multi_resids = resid_calc_classic(T_C, multi_pred)\n",
        "\n",
        "upscaled_multi_linear_resids = upscale_coarse(multi_resids)\n",
        "upscaled_multi_krig_resids = upscale_coarse_krig(multi_resids)\n",
        "\n",
        "multi_sharp_rc_linear = multi_sharp + upscaled_multi_linear_resids\n",
        "multi_sharp_rc_krig = multi_sharp + upscaled_multi_krig_resids\n",
        "\n",
        "\n",
        "multi_rc_linear_rmse = rmse(multi_sharp_rc_linear, T_H)\n",
        "multi_rc_krig = rmse(multi_sharp_rc_krig, T_H)\n",
        "\n",
        "print(\"Multi Linear Model RMSEs\")\n",
        "print(\"Residual Correction - Linear : \", multi_rc_linear_rmse)\n",
        "print(\"Residual Correction - Krig   : \", multi_rc_krig)"
      ]
    },
    {
      "cell_type": "markdown",
      "id": "6677f07e",
      "metadata": {},
      "source": [
        "## Polynomial Fit"
      ]
    },
    {
      "cell_type": "code",
      "execution_count": 8,
      "id": "f0b35407",
      "metadata": {},
      "outputs": [
        {
          "name": "stdout",
          "output_type": "stream",
          "text": [
            "Albedo Polynomial Model RMSEs\n",
            "Residual Correction - Linear :  16.291971982964252\n",
            "Residual Correction - Krig   :  25.248798930810356\n"
          ]
        }
      ],
      "source": [
        "poly_model = albedo_polynomial_fit([I_C, A_C], T_C)\n",
        "\n",
        "poly_pred = albedo_polynomial_sharpening([I_C, A_C], poly_model, n_c, ALBEDO_HIGH, ALBEDO_LOW)\n",
        "poly_sharp = albedo_polynomial_sharpening([I_H, A_H], poly_model, n_h, ALBEDO_HIGH, ALBEDO_LOW)\n",
        "\n",
        "poly_resids = resid_calc_mean(T_C, poly_sharp)\n",
        "\n",
        "upscaled_poly_linear_resids = upscale_coarse(poly_resids)\n",
        "upscaled_poly_krig_resids = upscale_coarse_krig(poly_resids)\n",
        "\n",
        "poly_sharp_rc_linear = poly_sharp + upscaled_poly_linear_resids\n",
        "poly_sharp_rc_krig = poly_sharp + upscaled_poly_krig_resids\n",
        "\n",
        "poly_rc_linear_rmse = rmse(poly_sharp_rc_linear, T_H)\n",
        "poly_rc_krig = rmse(poly_sharp_rc_krig, T_H)\n",
        "\n",
        "print(\"Albedo Polynomial Model RMSEs\")\n",
        "print(\"Residual Correction - Linear : \", poly_rc_linear_rmse)\n",
        "print(\"Residual Correction - Krig   : \", poly_rc_krig)"
      ]
    },
    {
      "cell_type": "markdown",
      "id": "52ac4316",
      "metadata": {},
      "source": [
        "## Patching"
      ]
    },
    {
      "cell_type": "code",
      "execution_count": 9,
      "id": "3c72bb39",
      "metadata": {},
      "outputs": [],
      "source": [
        "patch_size = 5\n",
        "stride = patch_size\n",
        "coarse_image_temp = T_C"
      ]
    },
    {
      "cell_type": "markdown",
      "id": "94873a78",
      "metadata": {},
      "source": [
        "#### Linear Patching"
      ]
    },
    {
      "cell_type": "code",
      "execution_count": 10,
      "id": "168b7494",
      "metadata": {},
      "outputs": [
        {
          "name": "stdout",
          "output_type": "stream",
          "text": [
            "Linear Patched Model RMSEs\n",
            "Residual Correction - Linear :  9.860210475391769\n",
            "Residual Correction - Krig   :  15.647707829282272\n"
          ]
        }
      ],
      "source": [
        "lin_coarse_inputs = [I_C]\n",
        "lin_fine_inputs = [I_H]\n",
        "\n",
        "linear_patched, linear_patched_resids = get_fine_reconstruction_from_patches(\n",
        "    lin_coarse_inputs, lin_fine_inputs, coarse_image_temp, linear_fit, linear_sharpening, patch_size, stride,\n",
        ")\n",
        "\n",
        "linear_patched_rc_linear = linear_patched + upscale_coarse(linear_patched_resids)\n",
        "linear_patched_rc_krig = linear_patched + upscale_coarse_krig(linear_patched_resids)\n",
        "\n",
        "lin_patched_rc_linear_rmse = rmse(linear_patched_rc_linear, T_H)\n",
        "lin_patched_rc_krig_rmse = rmse(linear_patched_rc_krig, T_H)\n",
        "\n",
        "print(\"Linear Patched Model RMSEs\")\n",
        "print(\"Residual Correction - Linear : \", lin_patched_rc_linear_rmse)\n",
        "print(\"Residual Correction - Krig   : \", lin_patched_rc_krig_rmse)"
      ]
    },
    {
      "cell_type": "markdown",
      "id": "3544c3ce",
      "metadata": {},
      "source": [
        "#### Multi Linear Patching"
      ]
    },
    {
      "cell_type": "code",
      "execution_count": 11,
      "id": "aac2aadf",
      "metadata": {},
      "outputs": [
        {
          "name": "stdout",
          "output_type": "stream",
          "text": [
            "Multi Patched Model RMSEs\n",
            "Residual Correction - Linear :  9.654868025514062\n",
            "Residual Correction - Krig   :  14.29652704867315\n"
          ]
        }
      ],
      "source": [
        "multi_coarse_inputs = [I_C, A_C]\n",
        "multi_fine_inputs = [I_H, A_H]\n",
        "\n",
        "multi_patched, multi_patched_resids = get_fine_reconstruction_from_patches(\n",
        "    multi_coarse_inputs, multi_fine_inputs, coarse_image_temp, multi_linear_fit, multi_linear_sharpening, patch_size, stride,\n",
        ")\n",
        "\n",
        "multi_patched_rc_linear = multi_patched + upscale_coarse(multi_patched_resids)\n",
        "multi_patched_rc_krig = multi_patched + upscale_coarse_krig(multi_patched_resids)\n",
        "\n",
        "\n",
        "multi_patched_rc_linear_rmse = rmse(multi_patched_rc_linear, T_H)\n",
        "multi_patched_rc_krig_rmse = rmse(multi_patched_rc_krig, T_H)\n",
        "\n",
        "print(\"Multi Patched Model RMSEs\")\n",
        "print(\"Residual Correction - Linear : \", multi_patched_rc_linear_rmse)\n",
        "print(\"Residual Correction - Krig   : \", multi_patched_rc_krig_rmse)"
      ]
    },
    {
      "cell_type": "markdown",
      "id": "326d6fb9",
      "metadata": {},
      "source": [
        "#### Polynomial Patching"
      ]
    },
    {
      "cell_type": "code",
      "execution_count": 12,
      "id": "406ff8c4",
      "metadata": {},
      "outputs": [
        {
          "name": "stdout",
          "output_type": "stream",
          "text": [
            "Poly Patched Model RMSEs\n",
            "Residual Correction - Linear :  635686.4468785855\n",
            "Residual Correction - Krig   :  637852.3571712539\n"
          ]
        }
      ],
      "source": [
        "poly_coarse_inputs = [I_C, A_C]\n",
        "poly_fine_inputs = [I_H, A_H]\n",
        "\n",
        "poly_patched, poly_patched_resids = get_fine_reconstruction_from_patches(\n",
        "    poly_coarse_inputs, poly_fine_inputs, coarse_image_temp,\n",
        "    albedo_polynomial_fit, albedo_polynomial_sharpening,\n",
        "    patch_size, stride, ALBEDO_HIGH, ALBEDO_LOW\n",
        ")\n",
        "\n",
        "poly_patched_rc_linear = poly_patched + upscale_coarse(poly_patched_resids)\n",
        "poly_patched_rc_krig = poly_patched + upscale_coarse_krig(poly_patched_resids)\n",
        "\n",
        "poly_patched_rc_linear_rmse = rmse(poly_patched_rc_linear, T_H)\n",
        "poly_patched_rc_krig_rmse = rmse(poly_patched_rc_krig, T_H)\n",
        "\n",
        "print(\"Poly Patched Model RMSEs\")\n",
        "print(\"Residual Correction - Linear : \", poly_patched_rc_linear_rmse)\n",
        "print(\"Residual Correction - Krig   : \", poly_patched_rc_krig_rmse)"
      ]
    },
    {
      "cell_type": "markdown",
      "id": "f2cfe235",
      "metadata": {},
      "source": [
        "## Classing"
      ]
    },
    {
      "cell_type": "code",
      "execution_count": 13,
      "id": "dc0fad01",
      "metadata": {},
      "outputs": [],
      "source": [
        "coarse_image_temp = T_C\n",
        "\n",
        "classes = np.unique(C_C)\n",
        "coarse_masks = {}\n",
        "fine_masks = {}\n",
        "\n",
        "for class_ in classes:\n",
        "    coarse_masks[class_] = C_C == class_\n",
        "    fine_masks[class_] = C_H == class_\n"
      ]
    },
    {
      "cell_type": "markdown",
      "id": "d282537f",
      "metadata": {},
      "source": [
        "#### Linear Classing"
      ]
    },
    {
      "cell_type": "code",
      "execution_count": 14,
      "id": "f22ba6be",
      "metadata": {},
      "outputs": [
        {
          "name": "stdout",
          "output_type": "stream",
          "text": [
            "Linear Classed Model RMSEs\n",
            "Residual Correction - Linear :  11.634007908299235\n",
            "Residual Correction - Krig   :  12.304131679321127\n"
          ]
        }
      ],
      "source": [
        "lin_coarse_inputs = [I_C]\n",
        "lin_fine_inputs = [I_H]\n",
        "\n",
        "linear_classed, linear_classes_resids = get_target_by_classing(\n",
        "    lin_coarse_inputs, lin_fine_inputs, coarse_image_temp, coarse_masks, fine_masks, linear_fit, linear_sharpening,\n",
        ")\n",
        "\n",
        "lin_classed_rc_linear = linear_classed + upscale_coarse(linear_classes_resids)\n",
        "lin_classed_rc_krig = linear_classed + upscale_coarse_krig(linear_classes_resids)\n",
        "\n",
        "lin_classed_rc_linear_rmse = rmse(lin_classed_rc_linear, T_H)\n",
        "lin_classed_rc_krig_rmse = rmse(lin_classed_rc_krig, T_H)\n",
        "\n",
        "print(\"Linear Classed Model RMSEs\")\n",
        "print(\"Residual Correction - Linear : \", lin_classed_rc_linear_rmse)\n",
        "print(\"Residual Correction - Krig   : \", lin_classed_rc_krig_rmse)"
      ]
    },
    {
      "cell_type": "markdown",
      "id": "c6e9a80f",
      "metadata": {},
      "source": [
        "RMSE by Class"
      ]
    },
    {
      "cell_type": "code",
      "execution_count": 15,
      "id": "e05e7ebc",
      "metadata": {},
      "outputs": [
        {
          "name": "stdout",
          "output_type": "stream",
          "text": [
            "Linear Classed Model RMSEs by Class\n",
            "RMSE Class 1 :  18.451799036648907\n",
            "RMSE Class 2 :  7.533752975333412\n",
            "RMSE Class 3 :  12.734455418761495\n"
          ]
        }
      ],
      "source": [
        "sharp_class1 = lin_classed_rc_linear[fine_masks[-100]]\n",
        "T_H_class1 = T_H[fine_masks[-100]]\n",
        "\n",
        "sharp_class2 = lin_classed_rc_linear[fine_masks[100]]\n",
        "T_H_class2 = T_H[fine_masks[100]]\n",
        "\n",
        "sharp_class3 = lin_classed_rc_linear[fine_masks[200]]\n",
        "T_H_class3 = T_H[fine_masks[200]]\n",
        "\n",
        "print(\"Linear Classed Model RMSEs by Class\")\n",
        "print(\"RMSE Class 1 : \", rmse(sharp_class1, T_H_class1))\n",
        "print(\"RMSE Class 2 : \", rmse(sharp_class2, T_H_class2))\n",
        "print(\"RMSE Class 3 : \", rmse(sharp_class3, T_H_class3))"
      ]
    },
    {
      "cell_type": "code",
      "execution_count": 16,
      "id": "22a4a9f3",
      "metadata": {},
      "outputs": [
        {
          "data": {
            "text/plain": [
              "<matplotlib.legend.Legend at 0x7c1651d713a0>"
            ]
          },
          "execution_count": 16,
          "metadata": {},
          "output_type": "execute_result"
        },
        {
          "data": {
            "image/png": "[encoded data removed]",
            "text/plain": [
              "<Figure size 640x480 with 1 Axes>"
            ]
          },
          "metadata": {},
          "output_type": "display_data"
        }
      ],
      "source": [
        "import matplotlib.pyplot as plt \n",
        "\n",
        "I_H_class1 = I_H[fine_masks[-100]]\n",
        "I_H_class2 = I_H[fine_masks[100]]\n",
        "I_H_class3 = I_H[fine_masks[200]]\n",
        "\n",
        "plt.scatter(I_H, T_H, label=\"T_H\")\n",
        "plt.scatter(I_H_class1, sharp_class1, label=\"Class 1\")\n",
        "plt.scatter(I_H_class2, sharp_class2, label=\"Class 2\", c=\"black\")\n",
        "plt.scatter(I_H_class3, sharp_class3, label=\"Class 3\")\n",
        "plt.xlabel(\"I_H\")\n",
        "plt.ylabel(\"Sharpened LST\")\n",
        "plt.legend()"
      ]
    },
    {
      "cell_type": "markdown",
      "id": "982c4ce5",
      "metadata": {},
      "source": [
        "Multi Linear Classing"
      ]
    },
    {
      "cell_type": "code",
      "execution_count": 17,
      "id": "8e74ebe6",
      "metadata": {},
      "outputs": [
        {
          "name": "stdout",
          "output_type": "stream",
          "text": [
            "Multi Classed Model RMSEs\n",
            "Residual Correction - Linear :  12.267317158884632\n",
            "Residual Correction - Krig   :  21.831079429835018\n"
          ]
        }
      ],
      "source": [
        "multi_coarse_inputs = [I_C, A_C]\n",
        "multi_fine_inputs = [I_H, A_H]\n",
        "\n",
        "multi_classed, multi_classes_resids = get_target_by_classing(\n",
        "    multi_coarse_inputs, multi_fine_inputs, coarse_image_temp, coarse_masks, fine_masks, multi_linear_fit, multi_linear_sharpening,\n",
        ")\n",
        "\n",
        "multi_classed_rc_linear = multi_classed + upscale_coarse(multi_classes_resids)\n",
        "multi_classed_rc_krig = multi_classed + upscale_coarse_krig(multi_classes_resids)\n",
        "\n",
        "\n",
        "multi_classed_rc_linear_rmse = rmse(multi_classed_rc_linear, T_H)\n",
        "multi_classed_rc_krig_rmse = rmse(multi_classed_rc_krig, T_H)\n",
        "\n",
        "print(\"Multi Classed Model RMSEs\")\n",
        "print(\"Residual Correction - Linear : \", multi_classed_rc_linear_rmse)\n",
        "print(\"Residual Correction - Krig   : \", multi_classed_rc_krig_rmse)"
      ]
    },
    {
      "cell_type": "markdown",
      "id": "68fd62e7",
      "metadata": {},
      "source": [
        "#### Polynomial Classing"
      ]
    },
    {
      "cell_type": "code",
      "execution_count": 18,
      "id": "2e6f545a",
      "metadata": {},
      "outputs": [
        {
          "name": "stdout",
          "output_type": "stream",
          "text": [
            "Poly Classed Model RMSEs\n",
            "Residual Correction - Linear :  14.481339060516433\n",
            "Residual Correction - Krig   :  22.62888566503071\n"
          ]
        }
      ],
      "source": [
        "poly_coarse_inputs = [I_C, A_C]\n",
        "poly_fine_inputs = [I_H, A_H]\n",
        "\n",
        "poly_classed, poly_classes_resids = get_target_by_classing(\n",
        "    poly_coarse_inputs, poly_fine_inputs, coarse_image_temp, coarse_masks, fine_masks,\n",
        "    albedo_polynomial_fit, albedo_polynomial_sharpening,\n",
        "    ALBEDO_HIGH, ALBEDO_LOW,\n",
        ")\n",
        "\n",
        "poly_classed = replace_thresholded_pixels(poly_classed, ALBEDO_HIGH, ALBEDO_LOW)\n",
        "                                          \n",
        "poly_classed_rc_linear = multi_classed + upscale_coarse(poly_classes_resids)\n",
        "poly_classed_rc_krig = multi_classed + upscale_coarse_krig(poly_classes_resids)\n",
        "\n",
        "\n",
        "poly_classed_rc_linear_rmse = rmse(poly_classed_rc_linear, T_H)\n",
        "poly_classed_rc_krig_rmse = rmse(poly_classed_rc_krig, T_H)\n",
        "\n",
        "print(\"Poly Classed Model RMSEs\")\n",
        "print(\"Residual Correction - Linear : \", poly_classed_rc_linear_rmse)\n",
        "print(\"Residual Correction - Krig   : \", poly_classed_rc_krig_rmse)"
      ]
    },
    {
      "cell_type": "code",
      "execution_count": null,
      "id": "429ce335",
      "metadata": {},
      "outputs": [],
      "source": []
    }
  ],
  "metadata": {
    "colab": {
      "provenance": []
    },
    "kernelspec": {
      "display_name": ".venv",
      "language": "python",
      "name": "python3"
    },
    "language_info": {
      "codemirror_mode": {
        "name": "ipython",
        "version": 3
      },
      "file_extension": ".py",
      "mimetype": "text/x-python",
      "name": "python",
      "nbconvert_exporter": "python",
      "pygments_lexer": "ipython3",
      "version": "3.12.3"
    }
  },
  "nbformat": 4,
  "nbformat_minor": 5
}
